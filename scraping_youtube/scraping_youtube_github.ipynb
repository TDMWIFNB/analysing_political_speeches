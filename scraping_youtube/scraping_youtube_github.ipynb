{
 "cells": [
  {
   "cell_type": "markdown",
   "metadata": {},
   "source": [
    "## Scraping YouTube videos"
   ]
  },
  {
   "cell_type": "markdown",
   "metadata": {},
   "source": [
    "### Installing required libraries"
   ]
  },
  {
   "cell_type": "code",
   "execution_count": null,
   "metadata": {},
   "outputs": [],
   "source": [
    "! pip install google-api-python-client"
   ]
  },
  {
   "cell_type": "code",
   "execution_count": null,
   "metadata": {},
   "outputs": [],
   "source": [
    "! pip install youtube-transcript-api"
   ]
  },
  {
   "cell_type": "markdown",
   "metadata": {},
   "source": [
    "### Scraping one YouTube video's details and transcript"
   ]
  },
  {
   "cell_type": "code",
   "execution_count": null,
   "metadata": {},
   "outputs": [],
   "source": [
    "from googleapiclient.discovery import build\n",
    "\n",
    "# Please put your own API key here\n",
    "API_key = \"Input your own\"\n",
    "\n",
    "# Defining a loop that uses the YouTube API to scrape the basic data of a video\n",
    "def get_video_details(video_id):\n",
    "    youtube = build(\"youtube\", \"v3\", developerKey=API_key)\n",
    "    request = youtube.videos().list(part=\"snippet,statistics\", id=video_id)\\\n",
    "    \n",
    "    response = request.execute()\n",
    "\n",
    "    if \"items\" in response and response[\"items\"]:\n",
    "        video = response[\"items\"][0]\n",
    "        details = {\n",
    "            \"title\": video[\"snippet\"][\"title\"],\n",
    "            \"channel\": video[\"snippet\"][\"channelTitle\"],\n",
    "            \"views\": video[\"statistics\"].get(\"viewCount\", \"N/A\"),\n",
    "            \"publish_date\": video[\"snippet\"][\"publishedAt\"],\n",
    "            \"url\": f\"https://www.youtube.com/watch?v={video_id}\"\n",
    "        }\n",
    "        return details\n",
    "    return None"
   ]
  },
  {
   "cell_type": "code",
   "execution_count": null,
   "metadata": {},
   "outputs": [],
   "source": [
    "# Testing code on example video of the VVD-YouTube-video\n",
    "video_id = \"XqtessUPQEY\"\n",
    "details = get_video_details(video_id)\n",
    "print(details)"
   ]
  },
  {
   "cell_type": "markdown",
   "metadata": {},
   "source": [
    "##### Scraping YouTube video transcript in Dutch"
   ]
  },
  {
   "cell_type": "code",
   "execution_count": null,
   "metadata": {},
   "outputs": [],
   "source": [
    "from youtube_transcript_api import YouTubeTranscriptApi\n",
    "\n",
    "# Defining a function to fetch the YouTube transcripts while utilising the YouTube transcript API\n",
    "def get_transcript(video_id, language=\"nl\"):\n",
    "    try:\n",
    "        transcript = YouTubeTranscriptApi.get_transcript(video_id, languages=[language])\n",
    "        transcript_text = \" \".join([entry[\"text\"] for entry in transcript])\n",
    "        return transcript_text\n",
    "\n",
    "    except Exception as e:\n",
    "        return f\"Error fetching transcript: {e}\""
   ]
  },
  {
   "cell_type": "code",
   "execution_count": null,
   "metadata": {},
   "outputs": [],
   "source": [
    "# Testing code on example video of the VVD-YouTube-video\n",
    "# Sorry but this video actually is a speech ouch\n",
    "video_id = \"XqtessUPQEY\"\n",
    "transcript = get_transcript(video_id)\n",
    "print(\"\\nTranscript:\", transcript)"
   ]
  },
  {
   "cell_type": "markdown",
   "metadata": {},
   "source": [
    "### Scraping the previously defined data and transcripts for multiple videos"
   ]
  },
  {
   "cell_type": "markdown",
   "metadata": {},
   "source": [
    "##### Getting an uploads list for a certain YouTube channel"
   ]
  },
  {
   "cell_type": "code",
   "execution_count": null,
   "metadata": {},
   "outputs": [],
   "source": [
    "# Finding this channel ID is a bit of a challenge, but can be done via following this tutorial: https://www.youtube.com/watch?v=0oDy2sWPF38\n",
    "channel_id_VVD = \"UCZean7nAZKDGIHANq-MuaGA\"\n",
    "\n",
    "# Getting the playlist of uploads for a specific YouTube channel\n",
    "def get_uploads_playlist_id(channel_id):\n",
    "    youtube = build(\"youtube\", \"v3\", developerKey=API_key)\n",
    "    request = youtube.channels().list(\n",
    "        part=\"contentDetails\",\n",
    "        id=channel_id\n",
    "    )\n",
    "    response = request.execute()\n",
    "    \n",
    "    if response[\"items\"]:\n",
    "        return response[\"items\"][0][\"contentDetails\"][\"relatedPlaylists\"][\"uploads\"]\n",
    "    return None"
   ]
  },
  {
   "cell_type": "code",
   "execution_count": null,
   "metadata": {},
   "outputs": [],
   "source": [
    "# Testing code on example video of the VVD-YouTube-video\n",
    "# Sorry but this video actually is a speech ouch\n",
    "uploads_playlist_id = get_uploads_playlist_id(channel_id_VVD)\n",
    "print(\"Uploads Playlist ID:\", uploads_playlist_id)"
   ]
  },
  {
   "cell_type": "markdown",
   "metadata": {},
   "source": [
    "##### Getting all video IDs from the uploads playlist"
   ]
  },
  {
   "cell_type": "code",
   "execution_count": null,
   "metadata": {},
   "outputs": [],
   "source": [
    "import datetime\n",
    "\n",
    "def get_videos_after_date(playlist_id, after_date_str):\n",
    "    youtube = build(\"youtube\", \"v3\", developerKey=API_key)\n",
    "    video_list = []\n",
    "    next_page_token = None\n",
    "\n",
    "    # Converting string to datetime object\n",
    "    after_date = datetime.datetime.strptime(after_date_str, \"%Y-%m-%d\")\n",
    "\n",
    "    while True:\n",
    "        request = youtube.playlistItems().list(part = \"snippet\", playlistId = playlist_id, maxResults = 50, pageToken = next_page_token)\n",
    "        response = request.execute()\n",
    "\n",
    "        for item in response[\"items\"]:\n",
    "            video_id = item[\"snippet\"][\"resourceId\"][\"videoId\"]\n",
    "            title = item[\"snippet\"][\"title\"]\n",
    "            publish_date = item[\"snippet\"][\"publishedAt\"]\n",
    "            \n",
    "            # Convert publish date to datetime\n",
    "            publish_date_obj = datetime.datetime.strptime(publish_date, \"%Y-%m-%dT%H:%M:%SZ\")\n",
    "\n",
    "            if publish_date_obj > after_date:\n",
    "                video_list.append({\n",
    "                    \"video_id\": video_id,\n",
    "                    \"title\": title,\n",
    "                    \"publish_date\": publish_date\n",
    "                })\n",
    "            \n",
    "            next_page_token = response.get(\"nextPageToken\")\n",
    "            if not next_page_token:\n",
    "                break\n",
    "            \n",
    "    return video_list"
   ]
  },
  {
   "cell_type": "code",
   "execution_count": null,
   "metadata": {},
   "outputs": [],
   "source": [
    "# Example: Get all videos published after January 1, 2024\n",
    "videos = get_videos_after_date(uploads_playlist_id, \"2024-01-01\")\n",
    "\n",
    "# Does not work yet, quota limit problems"
   ]
  }
 ],
 "metadata": {
  "kernelspec": {
   "display_name": "Python 3",
   "language": "python",
   "name": "python3"
  },
  "language_info": {
   "codemirror_mode": {
    "name": "ipython",
    "version": 3
   },
   "file_extension": ".py",
   "mimetype": "text/x-python",
   "name": "python",
   "nbconvert_exporter": "python",
   "pygments_lexer": "ipython3",
   "version": "3.12.9"
  }
 },
 "nbformat": 4,
 "nbformat_minor": 2
}
