{
 "cells": [
  {
   "cell_type": "markdown",
   "metadata": {},
   "source": [
    "## Scraping YouTube videos"
   ]
  },
  {
   "cell_type": "markdown",
   "metadata": {},
   "source": [
    "### Installing required libraries"
   ]
  },
  {
   "cell_type": "code",
   "execution_count": 2,
   "metadata": {},
   "outputs": [
    {
     "name": "stdout",
     "output_type": "stream",
     "text": [
      "Defaulting to user installation because normal site-packages is not writeable\n",
      "Requirement already satisfied: google-api-python-client in c:\\users\\viggo\\appdata\\local\\packages\\pythonsoftwarefoundation.python.3.12_qbz5n2kfra8p0\\localcache\\local-packages\\python312\\site-packages (2.147.0)\n",
      "Requirement already satisfied: httplib2<1.dev0,>=0.19.0 in c:\\users\\viggo\\appdata\\local\\packages\\pythonsoftwarefoundation.python.3.12_qbz5n2kfra8p0\\localcache\\local-packages\\python312\\site-packages (from google-api-python-client) (0.22.0)\n",
      "Requirement already satisfied: google-auth!=2.24.0,!=2.25.0,<3.0.0.dev0,>=1.32.0 in c:\\users\\viggo\\appdata\\local\\packages\\pythonsoftwarefoundation.python.3.12_qbz5n2kfra8p0\\localcache\\local-packages\\python312\\site-packages (from google-api-python-client) (2.35.0)\n",
      "Requirement already satisfied: google-auth-httplib2<1.0.0,>=0.2.0 in c:\\users\\viggo\\appdata\\local\\packages\\pythonsoftwarefoundation.python.3.12_qbz5n2kfra8p0\\localcache\\local-packages\\python312\\site-packages (from google-api-python-client) (0.2.0)\n",
      "Requirement already satisfied: google-api-core!=2.0.*,!=2.1.*,!=2.2.*,!=2.3.0,<3.0.0.dev0,>=1.31.5 in c:\\users\\viggo\\appdata\\local\\packages\\pythonsoftwarefoundation.python.3.12_qbz5n2kfra8p0\\localcache\\local-packages\\python312\\site-packages (from google-api-python-client) (2.20.0)\n",
      "Requirement already satisfied: uritemplate<5,>=3.0.1 in c:\\users\\viggo\\appdata\\local\\packages\\pythonsoftwarefoundation.python.3.12_qbz5n2kfra8p0\\localcache\\local-packages\\python312\\site-packages (from google-api-python-client) (4.1.1)\n",
      "Requirement already satisfied: googleapis-common-protos<2.0.dev0,>=1.56.2 in c:\\users\\viggo\\appdata\\local\\packages\\pythonsoftwarefoundation.python.3.12_qbz5n2kfra8p0\\localcache\\local-packages\\python312\\site-packages (from google-api-core!=2.0.*,!=2.1.*,!=2.2.*,!=2.3.0,<3.0.0.dev0,>=1.31.5->google-api-python-client) (1.65.0)\n",
      "Requirement already satisfied: protobuf!=3.20.0,!=3.20.1,!=4.21.0,!=4.21.1,!=4.21.2,!=4.21.3,!=4.21.4,!=4.21.5,<6.0.0.dev0,>=3.19.5 in c:\\users\\viggo\\appdata\\local\\packages\\pythonsoftwarefoundation.python.3.12_qbz5n2kfra8p0\\localcache\\local-packages\\python312\\site-packages (from google-api-core!=2.0.*,!=2.1.*,!=2.2.*,!=2.3.0,<3.0.0.dev0,>=1.31.5->google-api-python-client) (5.28.2)\n",
      "Requirement already satisfied: proto-plus<2.0.0dev,>=1.22.3 in c:\\users\\viggo\\appdata\\local\\packages\\pythonsoftwarefoundation.python.3.12_qbz5n2kfra8p0\\localcache\\local-packages\\python312\\site-packages (from google-api-core!=2.0.*,!=2.1.*,!=2.2.*,!=2.3.0,<3.0.0.dev0,>=1.31.5->google-api-python-client) (1.24.0)\n",
      "Requirement already satisfied: requests<3.0.0.dev0,>=2.18.0 in c:\\users\\viggo\\appdata\\local\\packages\\pythonsoftwarefoundation.python.3.12_qbz5n2kfra8p0\\localcache\\local-packages\\python312\\site-packages (from google-api-core!=2.0.*,!=2.1.*,!=2.2.*,!=2.3.0,<3.0.0.dev0,>=1.31.5->google-api-python-client) (2.32.3)\n",
      "Requirement already satisfied: cachetools<6.0,>=2.0.0 in c:\\users\\viggo\\appdata\\local\\packages\\pythonsoftwarefoundation.python.3.12_qbz5n2kfra8p0\\localcache\\local-packages\\python312\\site-packages (from google-auth!=2.24.0,!=2.25.0,<3.0.0.dev0,>=1.32.0->google-api-python-client) (5.5.0)\n",
      "Requirement already satisfied: pyasn1-modules>=0.2.1 in c:\\users\\viggo\\appdata\\local\\packages\\pythonsoftwarefoundation.python.3.12_qbz5n2kfra8p0\\localcache\\local-packages\\python312\\site-packages (from google-auth!=2.24.0,!=2.25.0,<3.0.0.dev0,>=1.32.0->google-api-python-client) (0.4.1)\n",
      "Requirement already satisfied: rsa<5,>=3.1.4 in c:\\users\\viggo\\appdata\\local\\packages\\pythonsoftwarefoundation.python.3.12_qbz5n2kfra8p0\\localcache\\local-packages\\python312\\site-packages (from google-auth!=2.24.0,!=2.25.0,<3.0.0.dev0,>=1.32.0->google-api-python-client) (4.9)\n",
      "Requirement already satisfied: pyparsing!=3.0.0,!=3.0.1,!=3.0.2,!=3.0.3,<4,>=2.4.2 in c:\\users\\viggo\\appdata\\local\\packages\\pythonsoftwarefoundation.python.3.12_qbz5n2kfra8p0\\localcache\\local-packages\\python312\\site-packages (from httplib2<1.dev0,>=0.19.0->google-api-python-client) (3.1.2)\n",
      "Requirement already satisfied: pyasn1<0.7.0,>=0.4.6 in c:\\users\\viggo\\appdata\\local\\packages\\pythonsoftwarefoundation.python.3.12_qbz5n2kfra8p0\\localcache\\local-packages\\python312\\site-packages (from pyasn1-modules>=0.2.1->google-auth!=2.24.0,!=2.25.0,<3.0.0.dev0,>=1.32.0->google-api-python-client) (0.6.1)\n",
      "Requirement already satisfied: charset-normalizer<4,>=2 in c:\\users\\viggo\\appdata\\local\\packages\\pythonsoftwarefoundation.python.3.12_qbz5n2kfra8p0\\localcache\\local-packages\\python312\\site-packages (from requests<3.0.0.dev0,>=2.18.0->google-api-core!=2.0.*,!=2.1.*,!=2.2.*,!=2.3.0,<3.0.0.dev0,>=1.31.5->google-api-python-client) (3.3.2)\n",
      "Requirement already satisfied: idna<4,>=2.5 in c:\\users\\viggo\\appdata\\local\\packages\\pythonsoftwarefoundation.python.3.12_qbz5n2kfra8p0\\localcache\\local-packages\\python312\\site-packages (from requests<3.0.0.dev0,>=2.18.0->google-api-core!=2.0.*,!=2.1.*,!=2.2.*,!=2.3.0,<3.0.0.dev0,>=1.31.5->google-api-python-client) (3.8)\n",
      "Requirement already satisfied: urllib3<3,>=1.21.1 in c:\\users\\viggo\\appdata\\local\\packages\\pythonsoftwarefoundation.python.3.12_qbz5n2kfra8p0\\localcache\\local-packages\\python312\\site-packages (from requests<3.0.0.dev0,>=2.18.0->google-api-core!=2.0.*,!=2.1.*,!=2.2.*,!=2.3.0,<3.0.0.dev0,>=1.31.5->google-api-python-client) (2.2.2)\n",
      "Requirement already satisfied: certifi>=2017.4.17 in c:\\users\\viggo\\appdata\\local\\packages\\pythonsoftwarefoundation.python.3.12_qbz5n2kfra8p0\\localcache\\local-packages\\python312\\site-packages (from requests<3.0.0.dev0,>=2.18.0->google-api-core!=2.0.*,!=2.1.*,!=2.2.*,!=2.3.0,<3.0.0.dev0,>=1.31.5->google-api-python-client) (2024.8.30)\n"
     ]
    }
   ],
   "source": [
    "! pip install google-api-python-client"
   ]
  },
  {
   "cell_type": "code",
   "execution_count": 3,
   "metadata": {},
   "outputs": [
    {
     "name": "stdout",
     "output_type": "stream",
     "text": [
      "Defaulting to user installation because normal site-packages is not writeable\n",
      "Requirement already satisfied: youtube-transcript-api in c:\\users\\viggo\\appdata\\local\\packages\\pythonsoftwarefoundation.python.3.12_qbz5n2kfra8p0\\localcache\\local-packages\\python312\\site-packages (0.6.3)\n",
      "Requirement already satisfied: defusedxml<0.8.0,>=0.7.1 in c:\\users\\viggo\\appdata\\local\\packages\\pythonsoftwarefoundation.python.3.12_qbz5n2kfra8p0\\localcache\\local-packages\\python312\\site-packages (from youtube-transcript-api) (0.7.1)\n",
      "Requirement already satisfied: requests in c:\\users\\viggo\\appdata\\local\\packages\\pythonsoftwarefoundation.python.3.12_qbz5n2kfra8p0\\localcache\\local-packages\\python312\\site-packages (from youtube-transcript-api) (2.32.3)\n",
      "Requirement already satisfied: charset-normalizer<4,>=2 in c:\\users\\viggo\\appdata\\local\\packages\\pythonsoftwarefoundation.python.3.12_qbz5n2kfra8p0\\localcache\\local-packages\\python312\\site-packages (from requests->youtube-transcript-api) (3.3.2)\n",
      "Requirement already satisfied: idna<4,>=2.5 in c:\\users\\viggo\\appdata\\local\\packages\\pythonsoftwarefoundation.python.3.12_qbz5n2kfra8p0\\localcache\\local-packages\\python312\\site-packages (from requests->youtube-transcript-api) (3.8)\n",
      "Requirement already satisfied: urllib3<3,>=1.21.1 in c:\\users\\viggo\\appdata\\local\\packages\\pythonsoftwarefoundation.python.3.12_qbz5n2kfra8p0\\localcache\\local-packages\\python312\\site-packages (from requests->youtube-transcript-api) (2.2.2)\n",
      "Requirement already satisfied: certifi>=2017.4.17 in c:\\users\\viggo\\appdata\\local\\packages\\pythonsoftwarefoundation.python.3.12_qbz5n2kfra8p0\\localcache\\local-packages\\python312\\site-packages (from requests->youtube-transcript-api) (2024.8.30)\n"
     ]
    }
   ],
   "source": [
    "! pip install youtube-transcript-api"
   ]
  },
  {
   "cell_type": "markdown",
   "metadata": {},
   "source": [
    "### Scraping one YouTube video's details and transcript"
   ]
  },
  {
   "cell_type": "code",
   "execution_count": null,
   "metadata": {},
   "outputs": [],
   "source": [
    "from googleapiclient.discovery import build\n",
    "\n",
    "# Please put your own API key here\n",
    "API_key = \"Please put your own API key here\"\n",
    "\n",
    "# Defining a loop that uses the YouTube API to scrape the basic data of a video\n",
    "def get_video_details(video_id):\n",
    "    youtube = build(\"youtube\", \"v3\", developerKey=API_key)\n",
    "    request = youtube.videos().list(part=\"snippet,statistics\", id=video_id)\\\n",
    "    \n",
    "    response = request.execute()\n",
    "\n",
    "    if \"items\" in response and response[\"items\"]:\n",
    "        video = response[\"items\"][0]\n",
    "        details = {\n",
    "            \"title\": video[\"snippet\"][\"title\"],\n",
    "            \"channel\": video[\"snippet\"][\"channelTitle\"],\n",
    "            \"views\": video[\"statistics\"].get(\"viewCount\", \"N/A\"),\n",
    "            \"publish_date\": video[\"snippet\"][\"publishedAt\"],\n",
    "            \"url\": f\"https://www.youtube.com/watch?v={video_id}\"\n",
    "        }\n",
    "        return details\n",
    "    return None"
   ]
  },
  {
   "cell_type": "code",
   "execution_count": null,
   "metadata": {},
   "outputs": [
    {
     "name": "stdout",
     "output_type": "stream",
     "text": [
      "{'title': '\"Ik sta hier voor de veiligheid van Nederlanders.\" Dilan Yeşilgöz-Zegerius clasht met FvD.', 'channel': 'VVD', 'views': '669', 'publish_date': '2025-02-19T12:48:47Z', 'url': 'https://www.youtube.com/watch?v=XqtessUPQEY'}\n"
     ]
    }
   ],
   "source": [
    "# Testing code on example video of the VVD YouTube-channel\n",
    "video_id = \"XqtessUPQEY\"\n",
    "details = get_video_details(video_id)\n",
    "print(details)"
   ]
  },
  {
   "cell_type": "markdown",
   "metadata": {},
   "source": [
    "##### Scraping YouTube video transcript in Dutch"
   ]
  },
  {
   "cell_type": "code",
   "execution_count": 6,
   "metadata": {},
   "outputs": [],
   "source": [
    "from youtube_transcript_api import YouTubeTranscriptApi\n",
    "\n",
    "# Defining a function to fetch the YouTube transcripts while utilising the YouTube transcript API\n",
    "def get_transcript(video_id, language=\"nl\"):\n",
    "    try:\n",
    "        transcript = YouTubeTranscriptApi.get_transcript(video_id, languages=[language])\n",
    "        transcript_text = \" \".join([entry[\"text\"] for entry in transcript])\n",
    "        return transcript_text\n",
    "\n",
    "    except Exception as e:\n",
    "        return f\"Error fetching transcript: {e}\""
   ]
  },
  {
   "cell_type": "code",
   "execution_count": null,
   "metadata": {},
   "outputs": [
    {
     "name": "stdout",
     "output_type": "stream",
     "text": [
      "\n",
      "Transcript: ehm de heer Rutte Secretaris generaal van de NAVO heeft uitgesproken dat het hele Westen dus van Wat zei die San Francisco tot Ankara geloof ik eh maar een derde aan wapentuig en munitie kan produceren van wat Rusland produceert hè Dat heeft hij uitgesproken nu dreigen wij in de situatie te zitten vandaag al dat Oekraïne met volledige steun van de NAVO dit eh conflict verliest eh is het dan niet wereldvreemd om te zeggen we gaan als Europa zelf onze broek ophouden en we gaan dan zorgen desnoods om dan zelf maar iets tegen die Russen tweer te stellen dat is toch totaal niet realistisch voorzitter mijn eerste reactie zou niet zijn op mijn rug liggen met mijn pootjes omhoog en aan Poetin vragen hoever die Europa door wil trekken ik sta wel voor de veiligheid van Nederlanders en ik zal er dan vervolgens ook alles aan doen dat wij daar paraat op eh zijn dus of dat is de samenwerking met Europa of dat is toch met onze Amerikaanse bondgenoot op een andere manier maar hier de suggestie dat we dan moeten zeggen Nou Poetin alsjeblieft hier is de rode loper ik mag hopen dat ze dit debat in de kreml niet eh volgen want dan gaat daar nu wel champagne of wat is het wodka fles open Ik vind echt een Gods bij deze vraag ja voorzitter ik pleit wel voor realisme en ik denk dat als het zo zou zijn dat de Verenigde Staten niet meer mee wil doen op de É of andere manier wat overigens heet heeft uitgesproken eh dat er geen Woods on the ground komen dat er geen eh conventionele steun vanuit de Verenigde Staten zou zijn dan moeten we toch op zijn minst andere wegen onderzoeken Dat is toch niet meer dan realistisch voorzitter en die andere wegen liggen in de scenario's waarbij je dus inderdaad voor je eigen veiligheid van je eigen continent en van je eigen land opkomt en die liggen niet in het feit dat je vervolgens de sleutel afgeeft aan een agressor aan een dictator die alles kapot wil maken waar wij hier met elkaar in Europa voor staan [Muziek]\n"
     ]
    }
   ],
   "source": [
    "# Testing code on example video of the VVD YouTube-channel\n",
    "# Sorry but this video actually is a speech ouch\n",
    "video_id = \"XqtessUPQEY\"\n",
    "transcript = get_transcript(video_id)\n",
    "print(\"\\nTranscript:\", transcript)"
   ]
  },
  {
   "cell_type": "markdown",
   "metadata": {},
   "source": [
    "### Scraping the previously defined data and transcripts for multiple videos"
   ]
  },
  {
   "cell_type": "markdown",
   "metadata": {},
   "source": [
    "##### Getting an uploads list for a certain YouTube channel"
   ]
  },
  {
   "cell_type": "code",
   "execution_count": 17,
   "metadata": {},
   "outputs": [],
   "source": [
    "# Finding this channel ID is a bit of a challenge, but can be done via following this tutorial: https://www.youtube.com/watch?v=0oDy2sWPF38\n",
    "channel_id_VVD = \"UCZean7nAZKDGIHANq-MuaGA\"\n",
    "channel_id_BIJ1 = \"UCI1wgi8HoU-wAnuSPSTDDUA\"\n",
    "channel_id_GroenLinks = \"UCpYJiwLo1KTKElBq_0xAI7A\"\n",
    "\n",
    "# Getting the playlist of uploads for a specific YouTube channel\n",
    "def get_uploads_playlist_id(channel_id):\n",
    "    youtube = build(\"youtube\", \"v3\", developerKey=API_key)\n",
    "    request = youtube.channels().list(\n",
    "        part=\"contentDetails\",\n",
    "        id=channel_id\n",
    "    )\n",
    "    response = request.execute()\n",
    "    \n",
    "    if response[\"items\"]:\n",
    "        return response[\"items\"][0][\"contentDetails\"][\"relatedPlaylists\"][\"uploads\"]\n",
    "    return None"
   ]
  },
  {
   "cell_type": "code",
   "execution_count": null,
   "metadata": {},
   "outputs": [
    {
     "name": "stdout",
     "output_type": "stream",
     "text": [
      "Uploads Playlist ID: UUI1wgi8HoU-wAnuSPSTDDUA\n"
     ]
    }
   ],
   "source": [
    "# Testing code on example video of the VVD YouTube-channel\n",
    "uploads_playlist_id = get_uploads_playlist_id(channel_id_BIJ1)\n",
    "print(\"Uploads Playlist ID:\", uploads_playlist_id)"
   ]
  },
  {
   "cell_type": "markdown",
   "metadata": {},
   "source": [
    "##### Getting all video IDs from the uploads playlist"
   ]
  },
  {
   "cell_type": "code",
   "execution_count": null,
   "metadata": {},
   "outputs": [],
   "source": [
    "import time\n",
    "import json\n",
    "import os\n",
    "\n",
    "# Specifying a cache directory to increase the speed of the code\n",
    "CACHE_DIR = \"cache\"\n",
    "if not os.path.exists(CACHE_DIR):\n",
    "    os.makedirs(CACHE_DIR)\n",
    "\n",
    "# Creating a json-file for the Playlist ID of the relevant YouTube channel\n",
    "def cache_results(filename, data):\n",
    "    with open(os.path.join(CACHE_DIR, filename), 'w') as f:\n",
    "        json.dump(data, f)\n",
    "\n",
    "# Loading the previously cached results\n",
    "def load_cached_results(filename):\n",
    "    filepath = os.path.join(CACHE_DIR, filename)\n",
    "    if os.path.exists(filepath):\n",
    "        with open(filepath, 'r') as f:\n",
    "            return json.load(f)\n",
    "    return None\n",
    "\n",
    "# Defining a function to get all the videos of a specific YouTube channel\n",
    "def get_all_videos(playlist_id):\n",
    "    # Returning the cached data\n",
    "    cache_filename = f\"{playlist_id}_all_videos.json\"\n",
    "    cached_data = load_cached_results(cache_filename)\n",
    "    if cached_data:\n",
    "        return cached_data\n",
    "\n",
    "    youtube = build(\"youtube\", \"v3\", developerKey=API_key)\n",
    "    video_list = []\n",
    "    next_page_token = None\n",
    "\n",
    "    while True:\n",
    "        # Requesting data via the YouTube API\n",
    "        request = youtube.playlistItems().list(\n",
    "            part=\"snippet\",\n",
    "            playlistId=playlist_id,\n",
    "            maxResults=50,\n",
    "            pageToken=next_page_token,\n",
    "            fields=\"items(snippet(resourceId(videoId),title,publishedAt)),nextPageToken\"\n",
    "        )\n",
    "        response = request.execute()\n",
    "\n",
    "        for item in response[\"items\"]:\n",
    "            # Extracting the relevant data\n",
    "            video_id = item[\"snippet\"][\"resourceId\"][\"videoId\"]\n",
    "            title = item[\"snippet\"][\"title\"]\n",
    "            publish_date = item[\"snippet\"][\"publishedAt\"]\n",
    "\n",
    "            # Appending the outcome variables to an outcome list\n",
    "            video_list.append({\n",
    "                \"video_id\": video_id,\n",
    "                \"title\": title,\n",
    "                \"publish_date\": publish_date\n",
    "            })\n",
    "        \n",
    "        # Go to next page if needed\n",
    "        next_page_token = response.get(\"nextPageToken\")\n",
    "        if not next_page_token:\n",
    "            break\n",
    "\n",
    "        # Implementing sleep time to not hit quota limits\n",
    "        time.sleep(1)\n",
    "\n",
    "    cache_results(cache_filename, video_list)\n",
    "    return video_list"
   ]
  },
  {
   "cell_type": "code",
   "execution_count": null,
   "metadata": {},
   "outputs": [
    {
     "name": "stdout",
     "output_type": "stream",
     "text": [
      "Uploads Playlist ID: UUpYJiwLo1KTKElBq_0xAI7A\n",
      "Found 453 videos\n"
     ]
    }
   ],
   "source": [
    "import pandas as pd\n",
    "\n",
    "# Getting the uploads playlist ID for the channel\n",
    "channel_id = channel_id_GroenLinks\n",
    "uploads_playlist_id = get_uploads_playlist_id(channel_id)\n",
    "print(\"Uploads Playlist ID:\", uploads_playlist_id)\n",
    "\n",
    "# Fetching all video IDs from the uploads playlist\n",
    "videos = get_all_videos(uploads_playlist_id)\n",
    "print(f\"Found {len(videos)} videos\")\n",
    "\n",
    "# Creating a list to store the video details and transcripts\n",
    "video_data = []\n",
    "\n",
    "# For each video ID, get the video details and transcript\n",
    "for video in videos:\n",
    "    video_id = video[\"video_id\"]\n",
    "    details = get_video_details(video_id)\n",
    "    transcript = get_transcript(video_id)\n",
    "    \n",
    "    video_data.append({\n",
    "        \"video_id\": video_id,\n",
    "        \"title\": details[\"title\"],\n",
    "        \"channel\": details[\"channel\"],\n",
    "        \"views\": details[\"views\"],\n",
    "        \"publish_date\": details[\"publish_date\"],\n",
    "        \"url\": details[\"url\"],\n",
    "        \"transcript\": transcript\n",
    "    })\n",
    "\n",
    "# Converting the list to a DataFrame\n",
    "df = pd.DataFrame(video_data)\n",
    "\n",
    "# Exporting the DataFrame to a CSV file\n",
    "df.to_csv(\"youtube_videos_VVD.csv\", index=False)"
   ]
  }
 ],
 "metadata": {
  "kernelspec": {
   "display_name": "Python 3",
   "language": "python",
   "name": "python3"
  },
  "language_info": {
   "codemirror_mode": {
    "name": "ipython",
    "version": 3
   },
   "file_extension": ".py",
   "mimetype": "text/x-python",
   "name": "python",
   "nbconvert_exporter": "python",
   "pygments_lexer": "ipython3",
   "version": "3.12.9"
  }
 },
 "nbformat": 4,
 "nbformat_minor": 2
}
